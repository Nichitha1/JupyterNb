{
  "nbformat": 4,
  "nbformat_minor": 0,
  "metadata": {
    "colab": {
      "provenance": []
    },
    "kernelspec": {
      "name": "python3",
      "display_name": "Python 3"
    },
    "language_info": {
      "name": "python"
    }
  },
  "cells": [
    {
      "cell_type": "markdown",
      "source": [
        "# Data Science Tools and Ecosystem\n",
        "\n"
      ],
      "metadata": {
        "id": "anIwU96R03nK"
      }
    },
    {
      "cell_type": "markdown",
      "source": [
        "In this notebook, Data Science Tools and Ecosystem are summarized."
      ],
      "metadata": {
        "id": "jXHbDv0526jv"
      }
    },
    {
      "cell_type": "markdown",
      "source": [
        "**Objectives:**\n",
        "\n",
        "- List popular languages data scientists use.\n",
        "- Some of the commonly used libraries by Data Scientists\n",
        "- List some data science tools.\n",
        "- Evaluating arithmetic expressions in Python.\n"
      ],
      "metadata": {
        "id": "MVJYs3Xd8HjY"
      }
    },
    {
      "cell_type": "markdown",
      "source": [
        "Some of the popular languages that Data Scientists use are:\n",
        "\n",
        "1.   R\n",
        "2.   Python\n",
        "3.   SQL\n",
        "\n",
        "\n",
        "\n"
      ],
      "metadata": {
        "id": "Sdx8Z9SO3nOw"
      }
    },
    {
      "cell_type": "markdown",
      "source": [
        "Some of the commonly used libraries used by Data Scientists include:\n",
        "\n",
        "1.   Pandas\n",
        "2.   Scikit-learn\n",
        "3.   TensorFlow\n",
        "4.   Seaborn\n",
        "5.   MatPlotlib\n",
        "\n"
      ],
      "metadata": {
        "id": "oG2ID2_M4b6r"
      }
    },
    {
      "cell_type": "markdown",
      "source": [
        "| Data Science Tools |\n",
        "|---------------------|\n",
        "| Jupyter Notebook    |\n",
        "| RStudio             |\n",
        "| Apache Zeppelin     |\n"
      ],
      "metadata": {
        "id": "eoG-AQZ26Fcd"
      }
    },
    {
      "cell_type": "markdown",
      "source": [
        "### Below are a few examples of evaluating arithmetic expressions in Python.\n"
      ],
      "metadata": {
        "id": "XkbnMTqs6lms"
      }
    },
    {
      "cell_type": "code",
      "source": [
        "# This is a simple arithmetic expression to multiply then add integers\n",
        "result = (3 * 4) + 5\n",
        "result\n"
      ],
      "metadata": {
        "colab": {
          "base_uri": "https://localhost:8080/"
        },
        "id": "LL0DvZZa7L_c",
        "outputId": "02e0d906-2dea-4acc-aabd-5d924b448aa3"
      },
      "execution_count": 2,
      "outputs": [
        {
          "output_type": "execute_result",
          "data": {
            "text/plain": [
              "17"
            ]
          },
          "metadata": {},
          "execution_count": 2
        }
      ]
    },
    {
      "cell_type": "code",
      "source": [
        "minutes = 200\n",
        "hours = minutes / 60\n",
        "# This will convert 200 minutes to hours by dividing by 60\n",
        "hours\n"
      ],
      "metadata": {
        "colab": {
          "base_uri": "https://localhost:8080/"
        },
        "id": "c9POeeIu7dpn",
        "outputId": "160c1f21-5b9c-4586-eaff-535bf4a96aaa"
      },
      "execution_count": 4,
      "outputs": [
        {
          "output_type": "execute_result",
          "data": {
            "text/plain": [
              "3.3333333333333335"
            ]
          },
          "metadata": {},
          "execution_count": 4
        }
      ]
    },
    {
      "cell_type": "markdown",
      "source": [
        "## Author\n",
        "\n",
        "Dameruppula Nichitha\n"
      ],
      "metadata": {
        "id": "LpBIvjf79GBm"
      }
    },
    {
      "cell_type": "code",
      "source": [],
      "metadata": {
        "id": "v5HjXTXb9Hh5"
      },
      "execution_count": null,
      "outputs": []
    }
  ]
}